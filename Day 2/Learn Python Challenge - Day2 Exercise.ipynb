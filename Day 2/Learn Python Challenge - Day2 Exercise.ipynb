{
 "cells": [
  {
   "cell_type": "markdown",
   "metadata": {},
   "source": [
    "# Exercises (Day 2: Functions and Getting Help)\n",
    "\n",
    "Welcome to the coding exercises for day 2 of the Python Challenge - you can find the [tutorial notebook that accompanies these exercises here](https://www.kaggle.com/colinmorris/learn-python-challenge-day-2). As before, don't forget to run the setup code below before jumping into question 1."
   ]
  },
  {
   "cell_type": "code",
   "execution_count": null,
   "metadata": {},
   "outputs": [],
   "source": [
    "# SETUP. You don't need to worry for now about what this code does or how it works. If you're ever curious about the \n",
    "# code behind these exercises, it's available under an open source license here: https://github.com/Kaggle/learntools/\n",
    "import sys; sys.path.insert(0, '../input/learntools/pseudo_learntools')\n",
    "from learntools.python import binder; binder.bind(globals())\n",
    "from learntools.python.ex2 import *\n",
    "print('Setup complete.')"
   ]
  },
  {
   "cell_type": "markdown",
   "metadata": {},
   "source": [
    "## 1.\n",
    "\n",
    "Complete the body of the following function according to its docstring.\n",
    "\n",
    "HINT: Python has a builtin function `round`"
   ]
  },
  {
   "cell_type": "code",
   "execution_count": null,
   "metadata": {},
   "outputs": [],
   "source": [
    "def round_to_two_places(num):\n",
    "    \"\"\"Return the given number rounded to two decimal places. \n",
    "    \n",
    "    >>> round_to_two_places(3.14159)\n",
    "    3.14\n",
    "    \"\"\"\n",
    "    # Replace this body with your own code.\n",
    "    # (\"pass\" is a keyword that does literally nothing. We used it as a placeholder\n",
    "    # because after we begin a code block, Python requires at least one line of code)\n",
    "#     return round(num , 2) - This is the expected answer\n",
    "    pass\n",
    "\n",
    "q1.check()"
   ]
  },
  {
   "cell_type": "markdown",
   "metadata": {},
   "source": [
    "__Hint:__ Run help(round) in the console (or in a code cell) to learn more about the round function. You'll need to use the function's optional second argument."
   ]
  },
  {
   "cell_type": "code",
   "execution_count": null,
   "metadata": {},
   "outputs": [],
   "source": [
    "# Solution: \n",
    "\n",
    "def round_to_two_places(num):\n",
    "    \"\"\"Return the given number rounded to two decimal places. \n",
    "    \n",
    "    >>> round_to_two_places(3.14159)\n",
    "    3.14\n",
    "    \"\"\"\n",
    "    # Replace this body with your own code.\n",
    "    # (\"pass\" is a keyword that does literally nothing. We used it as a placeholder\n",
    "    # because after we begin a code block, Python requires at least one line of code)\n",
    "    return round(num , 2) - This is the expected answer\n",
    "    pass\n",
    "\n",
    "q1.check()"
   ]
  },
  {
   "cell_type": "markdown",
   "metadata": {},
   "source": [
    "## 2.\n",
    "The help for `round` says that `ndigits` (the second argument) may be negative.\n",
    "What do you think will happen when it is? Try out some examples in the console (at the bottom of the editor) or in a new code cell.\n",
    "\n",
    "Can you think of a case where this would be useful?"
   ]
  },
  {
   "cell_type": "code",
   "execution_count": 1,
   "metadata": {},
   "outputs": [
    {
     "data": {
      "text/plain": [
       "3500.0"
      ]
     },
     "execution_count": 1,
     "metadata": {},
     "output_type": "execute_result"
    }
   ],
   "source": [
    "round(3546.14145, -2)"
   ]
  },
  {
   "cell_type": "markdown",
   "metadata": {},
   "source": [
    "__Solution:__ As you've seen, ndigits=-1 rounds to the nearest 10, ndigits=-2 rounds to the nearest 100 and so on. Where might this be useful? Suppose we're dealing with large numbers:\n",
    "\n",
    "The area of Finland is 338,424 km²\n",
    "The area of Greenland is 2,166,086 km²\n",
    "\n",
    "We probably don't care whether it's really 338,424, or 338,425, or 338,177. All those digits of accuracy are just distracting. We can chop them off by calling round() with ndigits=-3:\n",
    "\n",
    "The area of Finland is 338,000 km²\n",
    "The area of Greenland is 2,166,000 km²\n",
    "\n",
    "(We'll talk about how we would get the commas later when we talk about string formatting :))"
   ]
  },
  {
   "cell_type": "markdown",
   "metadata": {},
   "source": [
    "## 3.\n",
    "\n",
    "In yesterday's exercise, I introduced candy-sharing friends Alice, Bob and Carol. As a reminder, they have some candies which they plan to split evenly among themselves. For the sake of their friendship, any candies left over would be smashed. For example, if they collectively bring home 91 candies, they'll take 30 each and smash 1.\n",
    "\n",
    "Yesterday, you wrote some code to calculate how many candies they'd have to smash, assuming they collected a particular number.\n",
    "\n",
    "Below is a simple function that will calculate the number of candies to smash for *any* number of total candies.\n",
    "\n",
    "Modify it so that it optionally takes a second argument representing the number of friends the candies are being split between. If no second argument is provided, it should assume 3 friends, as before.\n",
    "\n",
    "If you're feeling extra fastidious, update the docstring to reflect this new behaviour (but we won't be checking for this)."
   ]
  },
  {
   "cell_type": "code",
   "execution_count": null,
   "metadata": {},
   "outputs": [],
   "source": [
    "def to_smash(total_candies):\n",
    "    \"\"\"Return the number of leftover candies that must be smashed after distributing\n",
    "    the given number of candies evenly between 3 friends.\n",
    "    \n",
    "    >>> to_smash(91)\n",
    "    1\n",
    "    \"\"\"\n",
    "    return total_candies % 3\n",
    "\n",
    "q3.check()"
   ]
  },
  {
   "cell_type": "markdown",
   "metadata": {},
   "source": [
    "__Hint:__ Refer to the section of today's tutorial notebook where we talked about default arguments"
   ]
  },
  {
   "cell_type": "code",
   "execution_count": null,
   "metadata": {},
   "outputs": [],
   "source": [
    "# Solution:\n",
    "\n",
    "def to_smash(total_candies, n_friends=3):\n",
    "    return total_candies % n_friends"
   ]
  },
  {
   "cell_type": "markdown",
   "metadata": {},
   "source": [
    "## 4.\n",
    "\n",
    "It may not be fun, but reading and understanding error messages will be an important part of your Python career.\n",
    "\n",
    "Each code cell below contains some commented-out buggy code. For each cell...\n",
    "\n",
    "1. Read the code and predict what you think will happen when it's run.\n",
    "2. Then uncomment the code and run it to see what happens. (**Tip**: In the kernel editor, you can highlight several lines and press `ctrl`+`/` to toggle commenting.)\n",
    "3. Fix the code (so that it accomplishes its intended purpose without throwing an exception)\n",
    "\n",
    "<!-- TODO: should this be autochecked? Delta is probably pretty small. -->"
   ]
  },
  {
   "cell_type": "code",
   "execution_count": null,
   "metadata": {},
   "outputs": [],
   "source": [
    "# Questioned mentioned\n",
    "# ruound_to_two_places(9.9999) \n"
   ]
  },
  {
   "cell_type": "code",
   "execution_count": null,
   "metadata": {},
   "outputs": [],
   "source": [
    "# Solution:\n",
    "\n",
    "def ruound_to_two_places(num):\n",
    "    return round(num)\n",
    "\n",
    "ruound_to_two_places(9.9999)"
   ]
  },
  {
   "cell_type": "code",
   "execution_count": null,
   "metadata": {},
   "outputs": [],
   "source": [
    "# Questioned mentioned\n",
    "# x = -10\n",
    "# y = 5\n",
    "# # Which of the two variables above has the smallest absolute value?\n",
    "# smallest_abs = min(abs(x, y))"
   ]
  },
  {
   "cell_type": "code",
   "execution_count": null,
   "metadata": {},
   "outputs": [],
   "source": [
    "# Solution:\n",
    "\n",
    "x = -10\n",
    "y = 5\n",
    "# # Which of the two variables above has the smallest absolute value?\n",
    "x = abs(x)\n",
    "y = abs(y)\n",
    "smallest_abs = min((x, y))\n",
    "smallest_abs"
   ]
  },
  {
   "cell_type": "code",
   "execution_count": null,
   "metadata": {},
   "outputs": [],
   "source": [
    "# def f(x):\n",
    "#     y = abs(x)\n",
    "# return y\n",
    "\n",
    "# print(f(5))"
   ]
  },
  {
   "cell_type": "code",
   "execution_count": null,
   "metadata": {},
   "outputs": [],
   "source": [
    "# Solution: \n",
    "\n",
    "def f(x):\n",
    "    y = abs(x)\n",
    "    return y\n",
    "\n",
    "print(f(5))"
   ]
  },
  {
   "cell_type": "markdown",
   "metadata": {},
   "source": [
    "## 5. <span title=\"A bit spicy\" style=\"color: darkgreen \">🌶️</span>\n",
    "\n",
    "For this question, we'll be using two functions imported from Python's `time` module.\n",
    "\n",
    "The [time](https://docs.python.org/3/library/time.html#time.time) function returns the number of seconds that have passed since the Epoch (aka [Unix time](https://en.wikipedia.org/wiki/Unix_time)). \n",
    "\n",
    "<!-- We've provided a function called `seconds_since_epoch` which returns the number of seconds that have passed since the Epoch (aka [Unix time](https://en.wikipedia.org/wiki/Unix_time)). -->\n",
    "\n",
    "Try it out below. Each time you run it, you should get a slightly larger number."
   ]
  },
  {
   "cell_type": "code",
   "execution_count": 6,
   "metadata": {},
   "outputs": [],
   "source": [
    "from time import time\n",
    "t = time()"
   ]
  },
  {
   "cell_type": "code",
   "execution_count": 7,
   "metadata": {},
   "outputs": [
    {
     "name": "stdout",
     "output_type": "stream",
     "text": [
      "Getting sleepy. See you in 5 seconds\n",
      "I'm back. What did I miss?\n"
     ]
    }
   ],
   "source": [
    "from time import sleep\n",
    "duration = 5\n",
    "print(\"Getting sleepy. See you in\", duration, \"seconds\")\n",
    "sleep(duration)\n",
    "print(\"I'm back. What did I miss?\")"
   ]
  },
  {
   "cell_type": "markdown",
   "metadata": {},
   "source": [
    "With the help of these functions, complete the function `time_call` below according to its docstring.\n",
    "\n",
    "<!-- (The sleep function will be useful for testing here since we have a pretty good idea of what something like `time_call(sleep, 1)` should return.) -->"
   ]
  },
  {
   "cell_type": "code",
   "execution_count": null,
   "metadata": {},
   "outputs": [],
   "source": [
    "# Questioned mentioned\n",
    "\n",
    "def time_call(fn, arg):\n",
    "    \"\"\"Return the amount of time the given function takes (in seconds) when called with the given argument.\n",
    "    \"\"\"\n",
    "    pass"
   ]
  },
  {
   "cell_type": "markdown",
   "metadata": {},
   "source": [
    "How can you verify that `time_call` is working correctly? (There's no `q5.check()` function for this question - testing your solution is part of your challenge.)"
   ]
  },
  {
   "cell_type": "markdown",
   "metadata": {},
   "source": [
    "__Hint:__ You'll need to call time() before and after calling the input function in order to measure its running time. The sleep function will be very useful for testing."
   ]
  },
  {
   "cell_type": "code",
   "execution_count": null,
   "metadata": {},
   "outputs": [],
   "source": [
    "from time import sleep\n",
    "def time_call(fn, arg):\n",
    "    \"\"\"Return the amount of time the given function takes (in seconds) when called with the given argument.\n",
    "    \"\"\"\n",
    "    t0 = time()\n",
    "    fn(arg)\n",
    "    t1 = time()\n",
    "    elapsed = t1 - t0\n",
    "    return elapsed\n",
    "    pass\n",
    "time_call(sleep, 2)"
   ]
  },
  {
   "cell_type": "markdown",
   "metadata": {},
   "source": [
    "To test your function, you can run something like time_call(sleep, 2) and make sure its return value is close to 2."
   ]
  },
  {
   "cell_type": "markdown",
   "metadata": {},
   "source": [
    "## 6. <span title=\"A bit spicy\" style=\"color: darkgreen \">🌶️</span>\n",
    "\n",
    "*Note: this question depends on a working solution to the previous question.*\n",
    "\n",
    "Complete the function below according to its docstring."
   ]
  },
  {
   "cell_type": "code",
   "execution_count": 9,
   "metadata": {},
   "outputs": [],
   "source": [
    "# Questioned mentioned\n",
    "\n",
    "def slowest_call(fn, arg1, arg2, arg3):\n",
    "    \"\"\"Return the amount of time taken by the slowest of the following function\n",
    "    calls: fn(arg1), fn(arg2), fn(arg3)\n",
    "    \"\"\"\n",
    "    t0 = time()\n",
    "    fn(arg1)\n",
    "    t1 = time()\n",
    "    elapsed1 = t1 - t0\n",
    "    fn(arg2)\n",
    "    t2 = time()\n",
    "    elapsed1 = t2 - t1\n",
    "    fn(arg3)\n",
    "    return max(time_call(fn, arg1), time_call(fn, arg2), time_call(fn, arg3))\n",
    "    pass"
   ]
  },
  {
   "cell_type": "code",
   "execution_count": null,
   "metadata": {},
   "outputs": [],
   "source": []
  },
  {
   "cell_type": "code",
   "execution_count": null,
   "metadata": {},
   "outputs": [],
   "source": []
  },
  {
   "cell_type": "markdown",
   "metadata": {},
   "source": [
    "\n",
    "## 7. <span title=\"A bit spicy\" style=\"color: darkgreen \">🌶️</span>\n",
    "\n",
    "What will Python display after we run the following (weird) code? Think carefully about the order in which Python will evaluate each part. When you have a prediction, uncomment and run the code to check whether you were correct."
   ]
  },
  {
   "cell_type": "code",
   "execution_count": null,
   "metadata": {},
   "outputs": [],
   "source": [
    "# print(print(\"Spam\"))"
   ]
  },
  {
   "cell_type": "code",
   "execution_count": 10,
   "metadata": {},
   "outputs": [
    {
     "name": "stdout",
     "output_type": "stream",
     "text": [
      "Spam\n",
      "None\n"
     ]
    }
   ],
   "source": [
    "print(print(\"Spam\"))"
   ]
  },
  {
   "cell_type": "markdown",
   "metadata": {},
   "source": [
    "__Solution:__ If you've tried running the code, you've seen that it prints:\n",
    "\n",
    "Spam\n",
    "None\n",
    "\n",
    "What's going on here? The inner call to the print function prints the string \"Spam\" of course. The outer call prints the value returned by the print function - which we've seen is None.\n",
    "\n",
    "Why do they print in this order? Python evaluates the arguments to a function before running the function itself. This means that nested function calls are evaluated from the inside out. Python needs to run print(\"Spam\") before it knows what value to pass to the outer print."
   ]
  },
  {
   "cell_type": "markdown",
   "metadata": {},
   "source": [
    "## 8. <span title=\"Spicy - this optional problem is intended to be extra difficult\" style=\"color: coral\">🌶️🌶️</span>\n",
    "\n",
    "Read the function definition below. What do you think will be returned by the function call at the bottom of the cell? Will it match the docstring example? Return something else? Or will Python raise an exception? When you're ready, run the code cell to find out."
   ]
  },
  {
   "cell_type": "code",
   "execution_count": 14,
   "metadata": {},
   "outputs": [
    {
     "data": {
      "text/plain": [
       "'1'"
      ]
     },
     "execution_count": 14,
     "metadata": {},
     "output_type": "execute_result"
    }
   ],
   "source": [
    "# Questioned mentioned\n",
    "\n",
    "def smallest_stringy_number(s1, s2, s3):\n",
    "    \"\"\"Return whichever of the three string arguments represents the smallest number.\n",
    "    \n",
    "    >>> smallest_stringy_number('1', '2', '3')\n",
    "    '1'\n",
    "    \"\"\"\n",
    "    return min(s1, s2, s3)\n",
    "\n",
    "smallest_stringy_number('1', '2', '3')"
   ]
  },
  {
   "cell_type": "markdown",
   "metadata": {},
   "source": [
    "<br/><br/><br/><br/><br/><br/><br/><br/><br/>\n",
    "\n",
    "(If you thought it would raise an exception, that's a perfectly reasonable guess. A large portion of learning Python is just trying stuff out and seeing what happens! A lot of arbitrary or at least subjective decisions go into designing a programming language, and it's not always possible to deduce from first principles how Python will handle a particular situation.)\n",
    "\n",
    "But in this case, the `min` function gamely accepts our string inputs and seems to work as desired! Or, at least on the example in the docstring. However, there's a subtle problem afoot. Try experimenting with the function to see if you can find a set of inputs where it fails. Can you see where it's going wrong?"
   ]
  },
  {
   "cell_type": "code",
   "execution_count": 15,
   "metadata": {},
   "outputs": [
    {
     "data": {
      "text/plain": [
       "'10'"
      ]
     },
     "execution_count": 15,
     "metadata": {},
     "output_type": "execute_result"
    }
   ],
   "source": [
    "def smallest_stringy_number(s1, s2, s3):\n",
    "    \"\"\"Return whichever of the three string arguments represents the smallest number.\n",
    "    \n",
    "    >>> smallest_stringy_number('1', '2', '3')\n",
    "    '1'\n",
    "    \"\"\"\n",
    "    return min(s1, s2, s3)\n",
    "\n",
    "smallest_stringy_number('10', '2', '3')"
   ]
  },
  {
   "cell_type": "code",
   "execution_count": 16,
   "metadata": {},
   "outputs": [
    {
     "data": {
      "text/plain": [
       "2"
      ]
     },
     "execution_count": 16,
     "metadata": {},
     "output_type": "execute_result"
    }
   ],
   "source": [
    "def smallest_stringy_number(s1, s2, s3):\n",
    "    \"\"\"Return whichever of the three string arguments represents the smallest number.\n",
    "    \n",
    "    >>> smallest_stringy_number('1', '2', '3')\n",
    "    '1'\n",
    "    \"\"\"\n",
    "    return min(s1, s2, s3)\n",
    "\n",
    "smallest_stringy_number(10, 2, 3)"
   ]
  },
  {
   "cell_type": "markdown",
   "metadata": {},
   "source": [
    "__Solution:__ smallest_stringy_number('10', '2', '3') is one example of a failure - it evaluates to '10' rather than '2'.\n",
    "\n",
    "The problem is that when min is applied to strings, Python returns the earliest one in lexicographic order (i.e. something like the logic used to order dictionaries or phonebooks) rather than considering their numerical value."
   ]
  },
  {
   "cell_type": "markdown",
   "metadata": {},
   "source": [
    "### b.\n",
    "\n",
    "In the cell below, modify `smallest_stringy_number` to fix the bug you identified in part a.\n",
    "\n",
    "Reminder: On day one, we briefly saw that `int` can be called on strings such as `'32'` to get the corresponding integer value.\n",
    "\n",
    "**Bonus**: Can you keep the function's body down to one line? (Try to only use tools we've seen so far - i.e. no loops, conditionals, etc.)"
   ]
  },
  {
   "cell_type": "code",
   "execution_count": null,
   "metadata": {},
   "outputs": [],
   "source": [
    "def smallest_stringy_number(s1, s2, s3):\n",
    "    \"\"\"Return whichever of the three string arguments represents the smallest number.\n",
    "    \n",
    "    >>> smallest_stringy_number('1', '2', '3')\n",
    "    '1'\n",
    "    \"\"\"\n",
    "    return min(s1, s2, s3)\n",
    "\n",
    "q8.b.check()"
   ]
  },
  {
   "cell_type": "markdown",
   "metadata": {},
   "source": [
    "__Hint:__ Remember that min can optionally take a key argument representing a function to apply to each element before comparing them."
   ]
  },
  {
   "cell_type": "code",
   "execution_count": 21,
   "metadata": {},
   "outputs": [
    {
     "data": {
      "text/plain": [
       "'1'"
      ]
     },
     "execution_count": 21,
     "metadata": {},
     "output_type": "execute_result"
    }
   ],
   "source": [
    "# Solution:\n",
    "\n",
    "def smallest_stringy_number(s1, s2, s3):\n",
    "    \"\"\"Return whichever of the three string arguments represents the smallest number.\n",
    "    \n",
    "    >>> smallest_stringy_number('1', '2', '3')\n",
    "    '1'\n",
    "    \"\"\"\n",
    "    return min(s1, s2, s3, key=int)\n",
    "\n",
    "\n",
    "# q8.b.check()\n",
    "smallest_stringy_number('1', '2', '3')"
   ]
  },
  {
   "cell_type": "markdown",
   "metadata": {},
   "source": [
    "And that's it for today! If you have any questions, be sure to post them on the [forums](https://www.kaggle.com/learn-forum).\n",
    "\n",
    "Remember that your notebook is private by default, and in order to share it with other people or ask for help with it, you'll need to make it public. First, you'll need to save a version of your notebook that shows your current work by hitting the \"Commit & Run\" button. (Your work is saved automatically, but versioning your work lets you go back and look at what it was like at the point you saved it. It also let's you share a nice compiled notebook instead of just the raw code.) Then, once your notebook is finished running, you can go to the Settings tab in the panel to the left (you may have to expand it by hitting the [<] button next to the \"Commit & Run\" button) and setting the \"Visibility\" dropdown to \"Public\".\n",
    "\n",
    "I'll see you tomorrow for day 3. We'll be learning about booleans, conditionals, and more."
   ]
  },
  {
   "cell_type": "markdown",
   "metadata": {},
   "source": [
    "### End of Day2 Work"
   ]
  }
 ],
 "metadata": {
  "kernelspec": {
   "display_name": "Python 3",
   "language": "python",
   "name": "python3"
  },
  "language_info": {
   "codemirror_mode": {
    "name": "ipython",
    "version": 3
   },
   "file_extension": ".py",
   "mimetype": "text/x-python",
   "name": "python",
   "nbconvert_exporter": "python",
   "pygments_lexer": "ipython3",
   "version": "3.6.4"
  }
 },
 "nbformat": 4,
 "nbformat_minor": 2
}
