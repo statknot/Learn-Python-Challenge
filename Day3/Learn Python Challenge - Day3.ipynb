{
 "cells": [
  {
   "cell_type": "markdown",
   "metadata": {},
   "source": [
    "# Day 3: Booleans and Conditionals"
   ]
  },
  {
   "cell_type": "markdown",
   "metadata": {},
   "source": [
    "Welcome to day 3 of the Python Challenge! In case you missed the first two days, here are links to day 1 and day 2. Today we'll learn about booleans and conditionals.\n",
    "\n",
    "Python has a type bool which can take on one of two values: True and False."
   ]
  },
  {
   "cell_type": "code",
   "execution_count": 16,
   "metadata": {},
   "outputs": [
    {
     "name": "stdout",
     "output_type": "stream",
     "text": [
      "True\n",
      "<class 'bool'>\n"
     ]
    }
   ],
   "source": [
    "x = True\n",
    "print(x)\n",
    "print(type(x))"
   ]
  },
  {
   "cell_type": "markdown",
   "metadata": {},
   "source": [
    "Rather than putting True or False directly in our code, we usually get boolean values from boolean operators. These are operators that answer questions of the form \"is it the case that __?\". We'll go through some of these operators below."
   ]
  },
  {
   "cell_type": "code",
   "execution_count": 13,
   "metadata": {},
   "outputs": [
    {
     "data": {
      "image/png": "[encoded data removed]",
      "text/plain": [
       "<IPython.core.display.Image object>"
      ]
     },
     "execution_count": 13,
     "metadata": {
      "image/png": {
       "height": 75,
       "width": 500
      }
     },
     "output_type": "execute_result"
    }
   ],
   "source": [
    "from IPython.display import Image\n",
    "Image(filename='Learn Python Challenge - Day3.png', width = 500, height= 75)"
   ]
  },
  {
   "cell_type": "markdown",
   "metadata": {},
   "source": [
    "![Comparison_Operations](data:image/jpeg;base64,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)"
   ]
  },
  {
   "cell_type": "code",
   "execution_count": null,
   "metadata": {},
   "outputs": [],
   "source": [
    "def can_run_for_president(age):\n",
    "    \"\"\"Can someone of the given age run for president in the US?\"\"\"\n",
    "    # The US Constitution says you must \"have attained to the Age of thirty-five Years\"\n",
    "    return age >= 35\n",
    "\n",
    "print(\"Can a 19-year-old run for president?\", can_run_for_president(19))\n",
    "print(\"Can a 45-year-old run for president?\", can_run_for_president(45))"
   ]
  },
  {
   "cell_type": "markdown",
   "metadata": {},
   "source": [
    "Comparisons are a little bit clever..."
   ]
  },
  {
   "cell_type": "code",
   "execution_count": 18,
   "metadata": {},
   "outputs": [
    {
     "data": {
      "text/plain": [
       "True"
      ]
     },
     "execution_count": 18,
     "metadata": {},
     "output_type": "execute_result"
    }
   ],
   "source": [
    "3.0 == 3"
   ]
  },
  {
   "cell_type": "markdown",
   "metadata": {},
   "source": [
    "But not too clever..."
   ]
  },
  {
   "cell_type": "code",
   "execution_count": 19,
   "metadata": {},
   "outputs": [
    {
     "data": {
      "text/plain": [
       "False"
      ]
     },
     "execution_count": 19,
     "metadata": {},
     "output_type": "execute_result"
    }
   ],
   "source": [
    "'3' == 3"
   ]
  },
  {
   "cell_type": "markdown",
   "metadata": {},
   "source": [
    "Comparison operators can be combined with the arithmetic operators we've already seen to express a virtually limitless range of mathematical tests. For example, we can check if a number is odd by checking that the modulus with 2 returns 1:"
   ]
  },
  {
   "cell_type": "code",
   "execution_count": 20,
   "metadata": {},
   "outputs": [
    {
     "name": "stdout",
     "output_type": "stream",
     "text": [
      "Is 100 odd? False\n",
      "Is -1 odd? True\n"
     ]
    }
   ],
   "source": [
    "def is_odd(n):\n",
    "    return (n % 2) == 1\n",
    "\n",
    "print(\"Is 100 odd?\", is_odd(100))\n",
    "print(\"Is -1 odd?\", is_odd(-1))"
   ]
  },
  {
   "cell_type": "markdown",
   "metadata": {},
   "source": [
    "Remember to use == instead of = when making comparisons. If you wrote n == 2 you are asking about the value of n. When you write n = 2 you are changing the value of n."
   ]
  },
  {
   "cell_type": "markdown",
   "metadata": {},
   "source": [
    "### Combining Boolean Values"
   ]
  },
  {
   "cell_type": "markdown",
   "metadata": {},
   "source": [
    "Python provides operators to combine boolean values using the standard concepts of \"and\", \"or\", and \"not\". And in fact, the corresponding Python operators use just those words: and, or, and not.\n",
    "\n",
    "With these, we can make our can_run_for_president function more accurate."
   ]
  },
  {
   "cell_type": "code",
   "execution_count": 21,
   "metadata": {},
   "outputs": [
    {
     "name": "stdout",
     "output_type": "stream",
     "text": [
      "False\n",
      "False\n",
      "True\n"
     ]
    }
   ],
   "source": [
    "def can_run_for_president(age, is_natural_born_citizen):\n",
    "    \"\"\"Can someone of the given age and citizenship status run for president in the US?\"\"\"\n",
    "    # The US Constitution says you must be a natural born citizen *and* at least 35 years old\n",
    "    return is_natural_born_citizen and (age >= 35)\n",
    "\n",
    "print(can_run_for_president(19, True))\n",
    "print(can_run_for_president(55, False))\n",
    "print(can_run_for_president(55, True))"
   ]
  },
  {
   "cell_type": "markdown",
   "metadata": {},
   "source": [
    "Quick, can you guess the value of this expression?"
   ]
  },
  {
   "cell_type": "code",
   "execution_count": 22,
   "metadata": {},
   "outputs": [
    {
     "data": {
      "text/plain": [
       "True"
      ]
     },
     "execution_count": 22,
     "metadata": {},
     "output_type": "execute_result"
    }
   ],
   "source": [
    "True or True and False"
   ]
  },
  {
   "cell_type": "markdown",
   "metadata": {},
   "source": [
    "Python has precedence rules that determine the order in which operations get evaluated in expressions like above. For example, *and* has a higher precedence than *or*, which is why the first expression above is True. If we had evaluated it from left to right, we would have calculated True *or* True first (which is True), and then taken the *and* of that result with False, giving a final value of False."
   ]
  },
  {
   "cell_type": "code",
   "execution_count": 50,
   "metadata": {},
   "outputs": [
    {
     "data": {
      "text/plain": [
       "False"
      ]
     },
     "execution_count": 50,
     "metadata": {},
     "output_type": "execute_result"
    }
   ],
   "source": [
    "True and False"
   ]
  },
  {
   "cell_type": "code",
   "execution_count": 51,
   "metadata": {},
   "outputs": [
    {
     "data": {
      "text/plain": [
       "True"
      ]
     },
     "execution_count": 51,
     "metadata": {},
     "output_type": "execute_result"
    }
   ],
   "source": [
    "True or False"
   ]
  },
  {
   "cell_type": "markdown",
   "metadata": {},
   "source": [
    "You could try to memorize the order of precedence, but a safer bet is to just use liberal parentheses. Not only does this help prevent bugs, it makes your intentions clearer to anyone who reads your code.\n",
    "\n",
    "For example, consider the following expression:"
   ]
  },
  {
   "cell_type": "code",
   "execution_count": 25,
   "metadata": {},
   "outputs": [],
   "source": [
    "prepared_for_weather = have_umbrella or rain_level < 5 and have_hood or not rain_level > 0 and is_workday"
   ]
  },
  {
   "cell_type": "markdown",
   "metadata": {},
   "source": [
    "I'm trying to say that I'm safe from today's weather....\n",
    "\n",
    "   - if I have an umbrella...\n",
    "   - or if the rain isn't too heavy and I have a hood...\n",
    "   - otherwise, I'm still fine unless it's raining and it's a workday\n",
    "   \n",
    "But not only is my Python code hard to read, it has a bug. We can address both problems by adding some parentheses:"
   ]
  },
  {
   "cell_type": "code",
   "execution_count": null,
   "metadata": {},
   "outputs": [],
   "source": [
    "prepared_for_weather = have_umbrella or (rain_level < 5 and have_hood) or not (rain_level > 0 and is_workday)"
   ]
  },
  {
   "cell_type": "markdown",
   "metadata": {},
   "source": [
    "You can add even more parentheses if you think it helps readability:"
   ]
  },
  {
   "cell_type": "code",
   "execution_count": 30,
   "metadata": {},
   "outputs": [],
   "source": [
    "prepared_for_weather = have_umbrella or ((rain_level < 5) and have_hood) or (not (rain_level > 0 and is_workday))"
   ]
  },
  {
   "cell_type": "markdown",
   "metadata": {},
   "source": [
    "We can also split it over multiple lines to emphasize the 3-part structure described above:"
   ]
  },
  {
   "cell_type": "code",
   "execution_count": 29,
   "metadata": {},
   "outputs": [],
   "source": [
    "prepared_for_weather = (\n",
    "    have_umbrella \n",
    "    or ((rain_level < 5) and have_hood) \n",
    "    or (not (rain_level > 0 and is_workday)\n",
    "# )"
   ]
  },
  {
   "cell_type": "markdown",
   "metadata": {},
   "source": [
    "### Conditionals"
   ]
  },
  {
   "cell_type": "markdown",
   "metadata": {},
   "source": [
    "While useful enough in their own right, booleans really start to shine when combined with conditional statements, using the keywords if, elif, and else.\n",
    "\n",
    "Conditional statements, often referred to as if-then statements, allow the programmer to execute certain pieces of code depending on some Boolean condition. A basic example of a Python conditional statement is this:"
   ]
  },
  {
   "cell_type": "code",
   "execution_count": 31,
   "metadata": {},
   "outputs": [
    {
     "name": "stdout",
     "output_type": "stream",
     "text": [
      "0 is zero\n",
      "-15 is negative\n"
     ]
    }
   ],
   "source": [
    "def inspect(x):\n",
    "    if x == 0:\n",
    "        print(x, \"is zero\")\n",
    "    elif x > 0:\n",
    "        print(x, \"is positive\")\n",
    "    elif x < 0:\n",
    "        print(x, \"is negative\")\n",
    "    else:\n",
    "        print(x, \"is unlike anything I've ever seen...\")\n",
    "\n",
    "inspect(0)\n",
    "inspect(-15)"
   ]
  },
  {
   "cell_type": "markdown",
   "metadata": {},
   "source": [
    "Python adopts the if and else often used in other languages; its more unique keyword is elif, a contraction of \"else if\". In these conditional clauses, elif and else blocks are optional; additionally, you can include as many elif statements as you would like.\n",
    "\n",
    "Note especially the use of colons (:) and whitespace to denote separate blocks of code. This is similar to what happens when we define a function - the function header ends with :, and the following line is indented with 4 spaces. All subsequent indented lines belong to the body of the function, until we encounter an unindented line, ending the function definition."
   ]
  },
  {
   "cell_type": "code",
   "execution_count": 32,
   "metadata": {},
   "outputs": [
    {
     "name": "stdout",
     "output_type": "stream",
     "text": [
      "Only printed when x is positive; x = 1\n",
      "Also only printed when x is positive; x = 1\n",
      "Always printed, regardless of x's value; x = 1\n",
      "Always printed, regardless of x's value; x = 0\n"
     ]
    }
   ],
   "source": [
    "def f(x):\n",
    "    if x > 0:\n",
    "        print(\"Only printed when x is positive; x =\", x)\n",
    "        print(\"Also only printed when x is positive; x =\", x)\n",
    "    print(\"Always printed, regardless of x's value; x =\", x)\n",
    "\n",
    "f(1)\n",
    "f(0)"
   ]
  },
  {
   "cell_type": "markdown",
   "metadata": {},
   "source": [
    "###  Boolean conversion"
   ]
  },
  {
   "cell_type": "markdown",
   "metadata": {},
   "source": [
    "We've seen int(), which turns things into ints, and float(), which turns things into floats, so you might not be surprised to hear that Python has a bool() function which turns things into bools."
   ]
  },
  {
   "cell_type": "code",
   "execution_count": 33,
   "metadata": {},
   "outputs": [
    {
     "name": "stdout",
     "output_type": "stream",
     "text": [
      "True\n",
      "False\n",
      "True\n",
      "False\n"
     ]
    }
   ],
   "source": [
    "print(bool(1)) # all numbers are treated as true, except 0\n",
    "print(bool(0))\n",
    "print(bool(\"asf\")) # all strings are treated as true, except the empty string \"\"\n",
    "print(bool(\"\"))\n",
    "# Generally empty sequences (strings, lists, and other types we've yet to see like lists and tuples)\n",
    "# are \"falsey\" and the rest are \"truthy\""
   ]
  },
  {
   "cell_type": "code",
   "execution_count": 37,
   "metadata": {},
   "outputs": [
    {
     "data": {
      "text/plain": [
       "False"
      ]
     },
     "execution_count": 37,
     "metadata": {},
     "output_type": "execute_result"
    }
   ],
   "source": [
    "bool(\"\")"
   ]
  },
  {
   "cell_type": "markdown",
   "metadata": {},
   "source": [
    "We can use non-boolean objects in if conditions and other places where a boolean would be expected. Python will implicitly treat them as their corresponding boolean value:"
   ]
  },
  {
   "cell_type": "code",
   "execution_count": 41,
   "metadata": {},
   "outputs": [
    {
     "name": "stdout",
     "output_type": "stream",
     "text": [
      "spam\n"
     ]
    }
   ],
   "source": [
    "if 0:\n",
    "    print(0)\n",
    "elif \"spam\":\n",
    "    print(\"spam\")"
   ]
  },
  {
   "cell_type": "markdown",
   "metadata": {},
   "source": [
    "### Conditional expressions (aka 'ternary')"
   ]
  },
  {
   "cell_type": "markdown",
   "metadata": {},
   "source": [
    "Setting a variable to either of two values depending on some condition is a pretty common pattern."
   ]
  },
  {
   "cell_type": "code",
   "execution_count": 42,
   "metadata": {},
   "outputs": [
    {
     "name": "stdout",
     "output_type": "stream",
     "text": [
      "You passed the quiz with a grade of 80\n"
     ]
    }
   ],
   "source": [
    "def quiz_message(grade):\n",
    "    if grade < 50:\n",
    "        outcome = 'failed'\n",
    "    else:\n",
    "        outcome = 'passed'\n",
    "    print('You', outcome, 'the quiz with a grade of', grade)\n",
    "    \n",
    "quiz_message(80)"
   ]
  },
  {
   "cell_type": "markdown",
   "metadata": {},
   "source": [
    "Python has a handy single-line 'conditional expression' syntax to simplify these cases:"
   ]
  },
  {
   "cell_type": "code",
   "execution_count": 43,
   "metadata": {},
   "outputs": [
    {
     "name": "stdout",
     "output_type": "stream",
     "text": [
      "You failed the quiz with a grade of 45\n"
     ]
    }
   ],
   "source": [
    "def quiz_message(grade):\n",
    "    outcome = 'failed' if grade < 50 else 'passed'\n",
    "    print('You', outcome, 'the quiz with a grade of', grade)\n",
    "    \n",
    "quiz_message(45)"
   ]
  },
  {
   "cell_type": "markdown",
   "metadata": {},
   "source": [
    "You may recognize this as being similar to the ternary operator that exists in many other languages. For example, in javascript, we would write the assignment above as `var outcome = grade < 50 ? 'failed' : 'passed'`. (When it comes to readability, I think Python is the winner here.)"
   ]
  },
  {
   "cell_type": "markdown",
   "metadata": {},
   "source": [
    "######  Content Link\n",
    "https://www.kaggle.com/colinmorris/learn-python-challenge-day-3?utm_medium=email&utm_source=mailchimp&utm_campaign=python+challenge"
   ]
  },
  {
   "cell_type": "markdown",
   "metadata": {},
   "source": [
    "## Now Lets Move on to Day3 Exercise"
   ]
  }
 ],
 "metadata": {
  "kernelspec": {
   "display_name": "Python 3",
   "language": "python",
   "name": "python3"
  },
  "language_info": {
   "codemirror_mode": {
    "name": "ipython",
    "version": 3
   },
   "file_extension": ".py",
   "mimetype": "text/x-python",
   "name": "python",
   "nbconvert_exporter": "python",
   "pygments_lexer": "ipython3",
   "version": "3.6.4"
  }
 },
 "nbformat": 4,
 "nbformat_minor": 2
}
